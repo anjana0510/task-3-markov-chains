{
  "nbformat": 4,
  "nbformat_minor": 0,
  "metadata": {
    "colab": {
      "provenance": []
    },
    "kernelspec": {
      "name": "python3",
      "display_name": "Python 3"
    },
    "language_info": {
      "name": "python"
    }
  },
  "cells": [
    {
      "cell_type": "code",
      "source": [
        "import random\n",
        "from collections import defaultdict\n",
        "\n",
        "class MarkovTextGenerator:\n",
        "    def __init__(self, order): # Changed _init_ to __init__\n",
        "        self.order = order\n",
        "        self.markov_map = defaultdict(list)\n",
        "\n",
        "    def train(self, text):\n",
        "        if not text:\n",
        "            return\n",
        "\n",
        "        # Pad the text to handle the beginning\n",
        "        text = \" \" * self.order + text\n",
        "\n",
        "        for i in range(len(text) - self.order):\n",
        "            current_state = text[i : i + self.order]\n",
        "            next_char = text[i + self.order]\n",
        "            self.markov_map[current_state].append(next_char)\n",
        "\n",
        "    def generate(self, length=100, start_state=None):\n",
        "        if not self.markov_map:\n",
        "            return \"Model not trained.\"\n",
        "\n",
        "        if start_state is None:\n",
        "            start_state = random.choice(list(self.markov_map.keys()))\n",
        "        elif len(start_state) != self.order:\n",
        "            return f\"Starting state must be of length {self.order}.\"\n",
        "        elif start_state not in self.markov_map:\n",
        "            return \"Starting state not found in the trained data.\"\n",
        "\n",
        "        generated_text = start_state\n",
        "        current_state = start_state\n",
        "\n",
        "        for _ in range(length - self.order):\n",
        "            possible_next = self.markov_map.get(current_state)\n",
        "            if not possible_next:\n",
        "                break  # Stop if no next character is found for the current state\n",
        "\n",
        "            next_char = random.choice(possible_next)\n",
        "            generated_text += next_char\n",
        "            current_state = generated_text[-self.order :]\n",
        "\n",
        "        return generated_text\n",
        "\n",
        "# Example usage in Google Colab\n",
        "# Removed the if condition since it's unnecessary in Jupyter/IPython\n",
        "# Define your text corpus\n",
        "text_corpus = \"the quick brown fox jumps over the lazy fox.\"\n",
        "\n",
        "# Choose the order of the Markov chain\n",
        "order = 2\n",
        "\n",
        "# Create an instance of the MarkovTextGenerator\n",
        "generator = MarkovTextGenerator(order=order)\n",
        "\n",
        "# Train the model\n",
        "generator.train(text_corpus)\n",
        "\n",
        "# Generate text\n",
        "generated_text = generator.generate(length=60, start_state=\"th\")\n",
        "print(f\"Generated text (order {order}):\", generated_text)\n",
        "\n",
        "# You can experiment with different text corpora and orders\n",
        "long_text = \"to be or not to be that is the question whether tis nobler in the mind to suffer the slings and arrows of outrageous fortune or to take arms against a sea of troubles and by opposing end them\"\n",
        "order_3_generator = MarkovTextGenerator(order=3)\n",
        "order_3_generator.train(long_text)\n",
        "generated_text_order_3 = order_3_generator.generate(length=100, start_state=\"to \")\n",
        "print(f\"Generated text (order 3 with longer text):\", generated_text_order_3)\n",
        "\n",
        "# You can also try generating without a specific start state\n",
        "random_start_text = generator.generate(length=40)\n",
        "print(f\"Generated text (order {order} with random start):\", random_start_text)\n"
      ],
      "metadata": {
        "colab": {
          "base_uri": "https://localhost:8080/"
        },
        "id": "8maqI5IxNhKn",
        "outputId": "d054db15-77db-437a-f435-4cd088efb281"
      },
      "execution_count": 4,
      "outputs": [
        {
          "output_type": "stream",
          "name": "stdout",
          "text": [
            "Generated text (order 2): the lazy fox.\n",
            "Generated text (order 3 with longer text): to suffer the question whethe question whethe sling end the mind to be or nobler in that is the slin\n",
            "Generated text (order 2 with random start): y fox jumps over the lazy fox.\n"
          ]
        }
      ]
    }
  ]
}